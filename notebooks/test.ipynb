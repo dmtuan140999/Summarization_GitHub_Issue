{
 "cells": [
  {
   "cell_type": "code",
   "execution_count": 7,
   "metadata": {},
   "outputs": [],
   "source": [
    "import pandas as pd\n",
    "from sklearn.model_selection import train_test_split\n",
    "from datasets import Dataset, DatasetDict\n",
    "from transformers import AutoModelForSeq2SeqLM, AutoTokenizer, AdamW, DataCollatorForSeq2Seq\n",
    "from torch.utils.data import DataLoader"
   ]
  },
  {
   "cell_type": "code",
   "execution_count": 6,
   "metadata": {},
   "outputs": [
    {
     "data": {
      "text/html": [
       "<div>\n",
       "<style scoped>\n",
       "    .dataframe tbody tr th:only-of-type {\n",
       "        vertical-align: middle;\n",
       "    }\n",
       "\n",
       "    .dataframe tbody tr th {\n",
       "        vertical-align: top;\n",
       "    }\n",
       "\n",
       "    .dataframe thead th {\n",
       "        text-align: right;\n",
       "    }\n",
       "</style>\n",
       "<table border=\"1\" class=\"dataframe\">\n",
       "  <thead>\n",
       "    <tr style=\"text-align: right;\">\n",
       "      <th></th>\n",
       "      <th>issue_url</th>\n",
       "      <th>issue_title</th>\n",
       "      <th>body</th>\n",
       "    </tr>\n",
       "  </thead>\n",
       "  <tbody>\n",
       "    <tr>\n",
       "      <th>0</th>\n",
       "      <td>\"https://github.com/zhangyuanwei/node-images/i...</td>\n",
       "      <td>can't load the addon. issue to: https://github...</td>\n",
       "      <td>can't load the addon. issue to: https://github...</td>\n",
       "    </tr>\n",
       "    <tr>\n",
       "      <th>1</th>\n",
       "      <td>\"https://github.com/Microsoft/pxt/issues/2543\"</td>\n",
       "      <td>hcl accessibility a11yblocking a11ymas mas4.2....</td>\n",
       "      <td>user experience: user who depends on screen re...</td>\n",
       "    </tr>\n",
       "    <tr>\n",
       "      <th>2</th>\n",
       "      <td>\"https://github.com/MatisiekPL/Czekolada/issue...</td>\n",
       "      <td>issue 1265: issue 1264: issue 1261: issue 1260...</td>\n",
       "      <td>┆attachments: &lt;a href= https:&amp; x2f;&amp; x2f;githu...</td>\n",
       "    </tr>\n",
       "    <tr>\n",
       "      <th>3</th>\n",
       "      <td>\"https://github.com/MatisiekPL/Czekolada/issue...</td>\n",
       "      <td>issue 1266: issue 1263: issue 1262: issue 1259...</td>\n",
       "      <td>gitlo = github x trello\\n---\\nthis board is no...</td>\n",
       "    </tr>\n",
       "    <tr>\n",
       "      <th>4</th>\n",
       "      <td>\"https://github.com/MatisiekPL/Czekolada/issue...</td>\n",
       "      <td>issue 1288: issue 1285: issue 1284: issue 1281...</td>\n",
       "      <td>┆attachments: &lt;a href= https:&amp; x2f;&amp; x2f;githu...</td>\n",
       "    </tr>\n",
       "  </tbody>\n",
       "</table>\n",
       "</div>"
      ],
      "text/plain": [
       "                                           issue_url  \\\n",
       "0  \"https://github.com/zhangyuanwei/node-images/i...   \n",
       "1     \"https://github.com/Microsoft/pxt/issues/2543\"   \n",
       "2  \"https://github.com/MatisiekPL/Czekolada/issue...   \n",
       "3  \"https://github.com/MatisiekPL/Czekolada/issue...   \n",
       "4  \"https://github.com/MatisiekPL/Czekolada/issue...   \n",
       "\n",
       "                                         issue_title  \\\n",
       "0  can't load the addon. issue to: https://github...   \n",
       "1  hcl accessibility a11yblocking a11ymas mas4.2....   \n",
       "2  issue 1265: issue 1264: issue 1261: issue 1260...   \n",
       "3  issue 1266: issue 1263: issue 1262: issue 1259...   \n",
       "4  issue 1288: issue 1285: issue 1284: issue 1281...   \n",
       "\n",
       "                                                body  \n",
       "0  can't load the addon. issue to: https://github...  \n",
       "1  user experience: user who depends on screen re...  \n",
       "2  ┆attachments: <a href= https:& x2f;& x2f;githu...  \n",
       "3  gitlo = github x trello\\n---\\nthis board is no...  \n",
       "4  ┆attachments: <a href= https:& x2f;& x2f;githu...  "
      ]
     },
     "execution_count": 6,
     "metadata": {},
     "output_type": "execute_result"
    }
   ],
   "source": [
    "github_issues = pd.read_csv(\"../data/github_issues.csv\")\n",
    "github_issues.head()"
   ]
  },
  {
   "cell_type": "code",
   "execution_count": null,
   "metadata": {},
   "outputs": [],
   "source": [
    "train_df, test_df = train_test_split(github_issues[['body', 'issue_title']], test_size=0.2, random_state=42)\n",
    "# Chuyển đổi DataFrame thành Dataset của Hugging Face\n",
    "train_dataset = Dataset.from_pandas(train_df, preserve_index=False)\n",
    "test_dataset = Dataset.from_pandas(test_df, preserve_index=False)\n",
    "# Tạo DatasetDict từ các Dataset đã chuyển đổi\n",
    "full_dataset_dict = DatasetDict({\n",
    "    'train': train_dataset,\n",
    "    'test': test_dataset\n",
    "})"
   ]
  }
 ],
 "metadata": {
  "kernelspec": {
   "display_name": "graph_bigdata",
   "language": "python",
   "name": "python3"
  },
  "language_info": {
   "codemirror_mode": {
    "name": "ipython",
    "version": 3
   },
   "file_extension": ".py",
   "mimetype": "text/x-python",
   "name": "python",
   "nbconvert_exporter": "python",
   "pygments_lexer": "ipython3",
   "version": "3.10.14"
  }
 },
 "nbformat": 4,
 "nbformat_minor": 2
}
